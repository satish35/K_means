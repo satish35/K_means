{
  "nbformat": 4,
  "nbformat_minor": 0,
  "metadata": {
    "colab": {
      "provenance": [],
      "authorship_tag": "ABX9TyOg5w/GPpJjUkauN5mASRzX",
      "include_colab_link": true
    },
    "kernelspec": {
      "name": "python3",
      "display_name": "Python 3"
    },
    "language_info": {
      "name": "python"
    }
  },
  "cells": [
    {
      "cell_type": "markdown",
      "metadata": {
        "id": "view-in-github",
        "colab_type": "text"
      },
      "source": [
        "<a href=\"https://colab.research.google.com/github/satish35/K_means/blob/main/K_means2D.ipynb\" target=\"_parent\"><img src=\"https://colab.research.google.com/assets/colab-badge.svg\" alt=\"Open In Colab\"/></a>"
      ]
    },
    {
      "cell_type": "code",
      "execution_count": 3,
      "metadata": {
        "id": "N30EPNXpgxk8"
      },
      "outputs": [],
      "source": [
        "import pandas as pd\n",
        "import matplotlib.pyplot as plt\n",
        "import numpy as np\n",
        "import math\n",
        "import random\n",
        "import statistics\n",
        "import cv2\n",
        "import time"
      ]
    },
    {
      "cell_type": "code",
      "source": [
        "data = pd.read_csv('/content/IRIS.csv')\n",
        "print(data.head())\n",
        "print(type(data))\n",
        "# print(len(data['Spending Score (1-100)']))\n",
        "# print(len(data['Age']))"
      ],
      "metadata": {
        "colab": {
          "base_uri": "https://localhost:8080/"
        },
        "id": "F2izditAhXF-",
        "outputId": "16d7653d-b935-4d96-f5c0-c02b29db93c2"
      },
      "execution_count": 13,
      "outputs": [
        {
          "output_type": "stream",
          "name": "stdout",
          "text": [
            "   sepal_length  sepal_width  petal_length  petal_width      species\n",
            "0           5.1          3.5           1.4          0.2  Iris-setosa\n",
            "1           4.9          3.0           1.4          0.2  Iris-setosa\n",
            "2           4.7          3.2           1.3          0.2  Iris-setosa\n",
            "3           4.6          3.1           1.5          0.2  Iris-setosa\n",
            "4           5.0          3.6           1.4          0.2  Iris-setosa\n",
            "<class 'pandas.core.frame.DataFrame'>\n"
          ]
        }
      ]
    },
    {
      "cell_type": "code",
      "source": [
        "class k_means_2Di:\n",
        "  def __init__(self,k,x,y):\n",
        "    self.dic_x={}\n",
        "    self.dic_y= {}\n",
        "    self.dic_xi= {}\n",
        "    self.dic_yi ={}\n",
        "    self.mean_x=[]\n",
        "    self.mean_y=[]\n",
        "    self.flag=0\n",
        "    self.var=0\n",
        "    self.x_point=self.scaler(x)\n",
        "    self.y_point=self.scaler(y)\n",
        "    self.iter=0\n",
        "    self.x_f=[]\n",
        "    self.y_f=[]\n",
        "    self.k=k\n",
        "    self.main_call()\n",
        "\n",
        "  def scaler(self,x):\n",
        "    min= x.min()\n",
        "    print(min)\n",
        "    max= x.max()\n",
        "    print(max)\n",
        "    for i in range(0, len(x)):\n",
        "      x[i]=(x[i]-min)/(max-min)\n",
        "    return x\n",
        "\n",
        "  def main_call(self):\n",
        "    dist =[]\n",
        "    # for i in range(0, self.k):\n",
        "    #   x= random.randint(1, len(self.x_point))-1\n",
        "    #   self.dic_x[i]= []\n",
        "    #   self.dic_xi[i] = str(self.x_point[x])\n",
        "    #   self.dic_y[i]= []\n",
        "    #   self.dic_yi[i] = str(self.y_point[x])\n",
        "    self.dic_xi[0]=(1.3-1)/(6.9-1)\n",
        "    self.dic_x[0]=[]\n",
        "    self.dic_xi[1]=(4.0-1)/(6.9-1)\n",
        "    self.dic_x[1]=[]\n",
        "    self.dic_xi[2]=(5.5-1)/(6.9-1)\n",
        "    self.dic_x[2]=[]\n",
        "    self.dic_yi[0]=(0.2-0.1)/(2.5-0.1)\n",
        "    self.dic_y[0]=[]\n",
        "    self.dic_yi[1]=(1.25-0.1)/(2.5-0.1)\n",
        "    self.dic_y[1]=[]\n",
        "    self.dic_yi[2]=(2.0-0.1)/(2.5-0.1)\n",
        "    self.dic_y[2]=[]\n",
        "    while(True):\n",
        "      self.iter=self.iter+1\n",
        "      for i in range(0, len(self.x_point)):\n",
        "        for j in range(0, self.k):\n",
        "          d_x= round(pow(round(abs(float(self.dic_xi[j])-self.x_point[i]), 2), 2), 2)\n",
        "          d_y= round(pow(round(abs(float(self.dic_yi[j])-self.y_point[i]), 2), 2), 2)\n",
        "          dist.append(math.sqrt(d_x + d_y))\n",
        "        a= dist.index(min(dist))\n",
        "        dist.clear()\n",
        "        self.dic_y[a].append(self.y_point[i])\n",
        "        self.dic_x[a].append(self.x_point[i])\n",
        "      for b in self.dic_xi.keys():\n",
        "        if(len(self.dic_x[b])==0):\n",
        "          self.mean_x.append(0)\n",
        "          self.mean_y.append(0)\n",
        "        else:\n",
        "          self.mean_x.append(statistics.mean(self.dic_x[b]))\n",
        "          self.mean_y.append(statistics.mean(self.dic_y[b]))\n",
        "      for f in range(0,self.k):\n",
        "        self.x_f.append(round(float(self.dic_xi[f]), 2))\n",
        "        self.y_f.append(round(float(self.dic_yi[f]), 2))\n",
        "        if str(self.mean_x[f]) == self.dic_xi[f] and str(self.mean_y[f]) == self.dic_yi[f]:\n",
        "          continue\n",
        "        else:\n",
        "          self.flag=1\n",
        "      if self.flag==0:\n",
        "        print(\"No. of iteration {}\".format(self.iter))\n",
        "        # self.plot_graph()\n",
        "        self.inertia_cal()\n",
        "        break\n",
        "      self.x_f.clear()\n",
        "      self.y_f.clear()\n",
        "      self.dic_x.clear()\n",
        "      self.dic_y.clear()\n",
        "      self.dic_xi.clear()\n",
        "      self.dic_yi.clear()\n",
        "      self.flag=0\n",
        "      for g in range(0,self.k):\n",
        "        self.dic_x[g] = []\n",
        "        self.dic_y[g] = []\n",
        "        self.dic_xi[g] = str(self.mean_x[g])\n",
        "        self.dic_yi[g] = str(self.mean_y[g])\n",
        "      self.mean_x.clear()\n",
        "      self.mean_y.clear()\n",
        "  def plot_graph(self):\n",
        "    print(self.dic_xi)\n",
        "    print(self.dic_yi)\n",
        "    color=['blue','yellow','green','black','purple']\n",
        "    # color=['blue','green', 'red','yellow']\n",
        "    plt.scatter(self.x_point, self.y_point,c='blue')\n",
        "    plt.figure(1 , figsize = (15 , 7) )\n",
        "    plt.clf()\n",
        "    for i in range(0, self.k):\n",
        "      plt.scatter(self.dic_x[i], self.dic_y[i],c=color[i])\n",
        "    plt.scatter(self.x_f, self.y_f,c='red')\n",
        "    plt.show()\n",
        "\n",
        "  def inertia_cal(self):\n",
        "    for g in range(0, self.k):\n",
        "      for x in range(0, len(self.dic_x[g])):\n",
        "        xd= pow(round(float(self.dic_xi[g])-self.dic_x[g][x], 2), 2)\n",
        "        yd= pow(round(float(self.dic_yi[g])-self.dic_y[g][x], 2), 2)\n",
        "        self.var = self.var+ (xd+yd)"
      ],
      "metadata": {
        "id": "iuLv48l2b2OI"
      },
      "execution_count": 81,
      "outputs": []
    },
    {
      "cell_type": "code",
      "source": [
        "# inertia= []\n",
        "# for n in range(1, 15):\n",
        "#   res = k_means_2Di(n,np.array(data['Age']), np.array(data['Spending Score (1-100)'])).var\n",
        "#   print(res)\n",
        "#   inertia.append(res)\n",
        "# print(inertia)\n",
        "# plt.figure(1 , figsize = (15 ,6))\n",
        "# plt.plot(np.arange(1 , 15) , inertia , 'o')\n",
        "# plt.plot(np.arange(1 , 15) , inertia , '-' , alpha = 0.5)\n",
        "# plt.xlabel('Number of Clusters') , plt.ylabel('Inertia')\n",
        "# plt.show()\n",
        "start= time.time()\n",
        "k1=k_means_2Di(3,np.array(data['petal_length']), np.array(data['petal_width']))\n",
        "end= time.time()\n",
        "print((end-start)*10**3)"
      ],
      "metadata": {
        "colab": {
          "base_uri": "https://localhost:8080/"
        },
        "id": "lqxLzz4OGsnk",
        "outputId": "ba0cf37e-a96b-44ac-b047-c5de249a7c6b"
      },
      "execution_count": 126,
      "outputs": [
        {
          "output_type": "stream",
          "name": "stdout",
          "text": [
            "1.0\n",
            "6.9\n",
            "0.1\n",
            "2.5\n",
            "No. of iteration 3\n",
            "40.56978225708008\n"
          ]
        }
      ]
    },
    {
      "cell_type": "code",
      "source": [
        "def scaler(x):\n",
        "    min= x.min()\n",
        "    max= x.max()\n",
        "    for i in range(0, len(x)):\n",
        "      x[i]=(x[i]-min)/(max-min)\n",
        "    return x\n",
        "plt.scatter(scaler(np.array(data['petal_length'])), scaler(np.array(data['petal_width'])))\n",
        "plt.show()"
      ],
      "metadata": {
        "colab": {
          "base_uri": "https://localhost:8080/",
          "height": 430
        },
        "id": "h59Ap1kzRYC8",
        "outputId": "cec27352-fc01-4bca-b4f1-ce84915486c4"
      },
      "execution_count": 74,
      "outputs": [
        {
          "output_type": "display_data",
          "data": {
            "text/plain": [
              "<Figure size 640x480 with 1 Axes>"
            ],
            "image/png": "[encoded data removed]"
          },
          "metadata": {}
        }
      ]
    }
  ]
}